{
 "cells": [
  {
   "cell_type": "code",
   "execution_count": 17,
   "metadata": {},
   "outputs": [],
   "source": [
    "import numpy as np\n",
    "import nltk\n",
    "from nltk import word_tokenize\n",
    "from nltk.util import ngrams\n",
    "from nltk.corpus import brown\n",
    "from collections import Counter"
   ]
  },
  {
   "cell_type": "code",
   "execution_count": 11,
   "metadata": {
    "tags": []
   },
   "outputs": [
    {
     "output_type": "stream",
     "name": "stderr",
     "text": "[nltk_data] Downloading package punkt to /home/local/MPIB-\n[nltk_data]     BERLIN/raza/nltk_data...\n[nltk_data]   Package punkt is already up-to-date!\n[nltk_data] Downloading package brown to /home/local/MPIB-\n[nltk_data]     BERLIN/raza/nltk_data...\n[nltk_data]   Unzipping corpora/brown.zip.\n"
    },
    {
     "output_type": "execute_result",
     "data": {
      "text/plain": "True"
     },
     "metadata": {},
     "execution_count": 11
    }
   ],
   "source": [
    "nltk.download('punkt')\n",
    "nltk.download('brown')"
   ]
  },
  {
   "cell_type": "code",
   "execution_count": 13,
   "metadata": {},
   "outputs": [],
   "source": [
    "words = brown.words(categories= 'news')"
   ]
  },
  {
   "cell_type": "code",
   "execution_count": 29,
   "metadata": {},
   "outputs": [],
   "source": [
    "bigrams = ngrams(words,2)\n",
    "trigrams = ngrams(words,3)"
   ]
  },
  {
   "cell_type": "code",
   "execution_count": 30,
   "metadata": {},
   "outputs": [],
   "source": [
    "counter = dict(Counter(bigrams))\n",
    "counter_tri = dict(Counter(trigrams))"
   ]
  },
  {
   "cell_type": "code",
   "execution_count": null,
   "metadata": {},
   "outputs": [],
   "source": [
    "def n_gram(words, n1 = 1, n2 = 2):\n",
    "    g1 = ngrams(words,n1)\n",
    "    g2 = ngrams(words,n2)\n",
    "    counter_g1 = dict(Counter(bigrams))\n",
    "    counter_g2 = dict(Counter(trigrams))\n",
    "    return counter_g1, counter_g2"
   ]
  }
 ],
 "metadata": {
  "language_info": {
   "codemirror_mode": {
    "name": "ipython",
    "version": 3
   },
   "file_extension": ".py",
   "mimetype": "text/x-python",
   "name": "python",
   "nbconvert_exporter": "python",
   "pygments_lexer": "ipython3",
   "version": "3.6.9-final"
  },
  "orig_nbformat": 2,
  "kernelspec": {
   "name": "python36964bitanlpvenv888d8570ac234479958570a9853e5ed6",
   "display_name": "Python 3.6.9 64-bit ('anlp': venv)"
  }
 },
 "nbformat": 4,
 "nbformat_minor": 2
}